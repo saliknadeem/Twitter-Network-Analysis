{
 "cells": [
  {
   "cell_type": "code",
   "execution_count": 1,
   "metadata": {},
   "outputs": [
    {
     "name": "stdout",
     "output_type": "stream",
     "text": [
      "Total Tweets =  8\n",
      "total unique people =  6\n",
      "\n",
      "\n",
      "Hashtags Counter({'ontariotechu': 6, 'gwb2020': 6, 'gwb': 1, 'trentu': 1}) \n",
      "\n",
      "running time=  5.551077365875244\n"
     ]
    }
   ],
   "source": [
    "from getTweetData import getTweetData\n",
    "        \n",
    "userData = 1\n",
    "tweetLimit = 500\n",
    "\n",
    "# searchTweet = \"#ONBudget\"\n",
    "searchTweet = \"#OntarioTechu\"\n",
    "# searchTweet = \"#ONTechU\"\n",
    "# searchTweet = \"#UOIT\"\n",
    "\n",
    "getTweetData(searchTweet, tweetLimit,userData)\n"
   ]
  },
  {
   "cell_type": "code",
   "execution_count": null,
   "metadata": {},
   "outputs": [],
   "source": [
    "from dataAnalysis import "
   ]
  }
 ],
 "metadata": {
  "kernelspec": {
   "display_name": "Python [conda env:twitter]",
   "language": "python",
   "name": "conda-env-twitter-py"
  },
  "language_info": {
   "codemirror_mode": {
    "name": "ipython",
    "version": 3
   },
   "file_extension": ".py",
   "mimetype": "text/x-python",
   "name": "python",
   "nbconvert_exporter": "python",
   "pygments_lexer": "ipython3",
   "version": "3.8.1"
  }
 },
 "nbformat": 4,
 "nbformat_minor": 4
}
